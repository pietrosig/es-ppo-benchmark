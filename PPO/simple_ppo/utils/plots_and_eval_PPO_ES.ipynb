{
  "nbformat": 4,
  "nbformat_minor": 0,
  "metadata": {
    "colab": {
      "provenance": [],
      "machine_shape": "hm"
    },
    "kernelspec": {
      "name": "python3",
      "display_name": "Python 3"
    },
    "language_info": {
      "name": "python"
    }
  },
  "cells": [
    {
      "cell_type": "markdown",
      "source": [
        "# **PLOTS OF THE REWADS AND EVALUTAION OF THE PPO AND ES MODELS**\n"
      ],
      "metadata": {
        "id": "RRhjs6_UZsrU"
      }
    },
    {
      "cell_type": "markdown",
      "source": [
        "Import the libreries"
      ],
      "metadata": {
        "id": "R0Eu_bfHbZ5r"
      }
    },
    {
      "cell_type": "code",
      "source": [
        "!pip install swig\n",
        "!pip install wheel setuptools pip --upgrade\n",
        "!pip install gymnasium[box2d]\n",
        "!pip install tensorboardX\n",
        "import gym\n",
        "import numpy as np\n",
        "from torch import nn\n",
        "from torch import functional as F\n",
        "import torch\n",
        "\n",
        "import json\n",
        "import matplotlib.pyplot as plt\n",
        "import numpy as np"
      ],
      "metadata": {
        "colab": {
          "base_uri": "https://localhost:8080/",
          "height": 1000
        },
        "id": "Z1VLzN1wbZPt",
        "outputId": "08cf787b-8dc4-4b1b-d117-45184776a5c8"
      },
      "execution_count": null,
      "outputs": [
        {
          "output_type": "stream",
          "name": "stdout",
          "text": [
            "Collecting swig\n",
            "  Downloading swig-4.3.0-py2.py3-none-manylinux_2_5_x86_64.manylinux1_x86_64.whl.metadata (3.5 kB)\n",
            "Downloading swig-4.3.0-py2.py3-none-manylinux_2_5_x86_64.manylinux1_x86_64.whl (1.9 MB)\n",
            "\u001b[?25l   \u001b[90m━━━━━━━━━━━━━━━━━━━━━━━━━━━━━━━━━━━━━━━━\u001b[0m \u001b[32m0.0/1.9 MB\u001b[0m \u001b[31m?\u001b[0m eta \u001b[36m-:--:--\u001b[0m\r\u001b[2K   \u001b[91m━\u001b[0m\u001b[91m╸\u001b[0m\u001b[90m━━━━━━━━━━━━━━━━━━━━━━━━━━━━━━━━━━━━━━\u001b[0m \u001b[32m0.1/1.9 MB\u001b[0m \u001b[31m2.5 MB/s\u001b[0m eta \u001b[36m0:00:01\u001b[0m\r\u001b[2K   \u001b[91m━━━━━━━━━━━━━━\u001b[0m\u001b[90m╺\u001b[0m\u001b[90m━━━━━━━━━━━━━━━━━━━━━━━━━\u001b[0m \u001b[32m0.7/1.9 MB\u001b[0m \u001b[31m10.3 MB/s\u001b[0m eta \u001b[36m0:00:01\u001b[0m\r\u001b[2K   \u001b[90m━━━━━━━━━━━━━━━━━━━━━━━━━━━━━━━━━━━━━━━━\u001b[0m \u001b[32m1.9/1.9 MB\u001b[0m \u001b[31m18.3 MB/s\u001b[0m eta \u001b[36m0:00:00\u001b[0m\n",
            "\u001b[?25hInstalling collected packages: swig\n",
            "Successfully installed swig-4.3.0\n",
            "Requirement already satisfied: wheel in /usr/local/lib/python3.11/dist-packages (0.45.1)\n",
            "Requirement already satisfied: setuptools in /usr/local/lib/python3.11/dist-packages (75.1.0)\n",
            "Collecting setuptools\n",
            "  Downloading setuptools-75.8.0-py3-none-any.whl.metadata (6.7 kB)\n",
            "Requirement already satisfied: pip in /usr/local/lib/python3.11/dist-packages (24.1.2)\n",
            "Collecting pip\n",
            "  Downloading pip-25.0-py3-none-any.whl.metadata (3.7 kB)\n",
            "Downloading setuptools-75.8.0-py3-none-any.whl (1.2 MB)\n",
            "\u001b[2K   \u001b[90m━━━━━━━━━━━━━━━━━━━━━━━━━━━━━━━━━━━━━━━━\u001b[0m \u001b[32m1.2/1.2 MB\u001b[0m \u001b[31m12.6 MB/s\u001b[0m eta \u001b[36m0:00:00\u001b[0m\n",
            "\u001b[?25hDownloading pip-25.0-py3-none-any.whl (1.8 MB)\n",
            "\u001b[2K   \u001b[90m━━━━━━━━━━━━━━━━━━━━━━━━━━━━━━━━━━━━━━━━\u001b[0m \u001b[32m1.8/1.8 MB\u001b[0m \u001b[31m56.2 MB/s\u001b[0m eta \u001b[36m0:00:00\u001b[0m\n",
            "\u001b[?25hInstalling collected packages: setuptools, pip\n",
            "  Attempting uninstall: setuptools\n",
            "    Found existing installation: setuptools 75.1.0\n",
            "    Uninstalling setuptools-75.1.0:\n",
            "      Successfully uninstalled setuptools-75.1.0\n",
            "  Attempting uninstall: pip\n",
            "    Found existing installation: pip 24.1.2\n",
            "    Uninstalling pip-24.1.2:\n",
            "      Successfully uninstalled pip-24.1.2\n",
            "\u001b[31mERROR: pip's dependency resolver does not currently take into account all the packages that are installed. This behaviour is the source of the following dependency conflicts.\n",
            "ipython 7.34.0 requires jedi>=0.16, which is not installed.\u001b[0m\u001b[31m\n",
            "\u001b[0mSuccessfully installed pip-25.0 setuptools-75.8.0\n"
          ]
        },
        {
          "output_type": "display_data",
          "data": {
            "application/vnd.colab-display-data+json": {
              "pip_warning": {
                "packages": [
                  "_distutils_hack",
                  "setuptools"
                ]
              },
              "id": "c4c2ad2422644c3fb880818c89ad66c8"
            }
          },
          "metadata": {}
        },
        {
          "output_type": "stream",
          "name": "stdout",
          "text": [
            "Collecting gymnasium[box2d]\n",
            "  Downloading gymnasium-1.0.0-py3-none-any.whl.metadata (9.5 kB)\n",
            "Requirement already satisfied: numpy>=1.21.0 in /usr/local/lib/python3.11/dist-packages (from gymnasium[box2d]) (1.26.4)\n",
            "Requirement already satisfied: cloudpickle>=1.2.0 in /usr/local/lib/python3.11/dist-packages (from gymnasium[box2d]) (3.1.1)\n",
            "Requirement already satisfied: typing-extensions>=4.3.0 in /usr/local/lib/python3.11/dist-packages (from gymnasium[box2d]) (4.12.2)\n",
            "Collecting farama-notifications>=0.0.1 (from gymnasium[box2d])\n",
            "  Downloading Farama_Notifications-0.0.4-py3-none-any.whl.metadata (558 bytes)\n",
            "Collecting box2d-py==2.3.5 (from gymnasium[box2d])\n",
            "  Downloading box2d-py-2.3.5.tar.gz (374 kB)\n",
            "  Preparing metadata (setup.py) ... \u001b[?25l\u001b[?25hdone\n",
            "Requirement already satisfied: pygame>=2.1.3 in /usr/local/lib/python3.11/dist-packages (from gymnasium[box2d]) (2.6.1)\n",
            "Requirement already satisfied: swig==4.* in /usr/local/lib/python3.11/dist-packages (from gymnasium[box2d]) (4.3.0)\n",
            "Downloading Farama_Notifications-0.0.4-py3-none-any.whl (2.5 kB)\n",
            "Downloading gymnasium-1.0.0-py3-none-any.whl (958 kB)\n",
            "\u001b[2K   \u001b[90m━━━━━━━━━━━━━━━━━━━━━━━━━━━━━━━━━━━━━━━━\u001b[0m \u001b[32m958.1/958.1 kB\u001b[0m \u001b[31m22.4 MB/s\u001b[0m eta \u001b[36m0:00:00\u001b[0m\n",
            "\u001b[?25hBuilding wheels for collected packages: box2d-py\n",
            "  Building wheel for box2d-py (setup.py) ... \u001b[?25l\u001b[?25hdone\n",
            "  Created wheel for box2d-py: filename=box2d_py-2.3.5-cp311-cp311-linux_x86_64.whl size=2379475 sha256=72f2385fe8cd047f21fbfe3fc59c924b01bebb9583e14565290e0e52aa9b52ad\n",
            "  Stored in directory: /root/.cache/pip/wheels/ab/f1/0c/d56f4a2bdd12bae0a0693ec33f2f0daadb5eb9753c78fa5308\n",
            "Successfully built box2d-py\n",
            "Installing collected packages: farama-notifications, box2d-py, gymnasium\n",
            "Successfully installed box2d-py-2.3.5 farama-notifications-0.0.4 gymnasium-1.0.0\n",
            "Collecting tensorboardX\n",
            "  Downloading tensorboardX-2.6.2.2-py2.py3-none-any.whl.metadata (5.8 kB)\n",
            "Requirement already satisfied: numpy in /usr/local/lib/python3.11/dist-packages (from tensorboardX) (1.26.4)\n",
            "Requirement already satisfied: packaging in /usr/local/lib/python3.11/dist-packages (from tensorboardX) (24.2)\n",
            "Requirement already satisfied: protobuf>=3.20 in /usr/local/lib/python3.11/dist-packages (from tensorboardX) (4.25.5)\n",
            "Downloading tensorboardX-2.6.2.2-py2.py3-none-any.whl (101 kB)\n",
            "Installing collected packages: tensorboardX\n",
            "Successfully installed tensorboardX-2.6.2.2\n"
          ]
        }
      ]
    },
    {
      "cell_type": "markdown",
      "source": [
        "# **Plots of the rewards**\n",
        "We plot the rewards that we saved at traning time of the best models for both the PPO and ES models"
      ],
      "metadata": {
        "id": "AF0AEE4RaTZL"
      }
    },
    {
      "cell_type": "code",
      "execution_count": null,
      "metadata": {
        "colab": {
          "base_uri": "https://localhost:8080/",
          "height": 472
        },
        "id": "LRAIbKGn4gRK",
        "outputId": "6722ce7f-fa96-44f2-cd62-773ae6826f37"
      },
      "outputs": [
        {
          "output_type": "display_data",
          "data": {
            "text/plain": [
              "<Figure size 640x480 with 1 Axes>"
            ],
            "image/png": "[encoded data removed]"
          },
          "metadata": {}
        }
      ],
      "source": [
        "def read_json_file(file_path):\n",
        "    elements = []\n",
        "    with open(file_path, 'r') as file:\n",
        "        for line in file:\n",
        "            elements.append(json.loads(line))\n",
        "    return elements\n",
        "\n",
        "def correct_json_file(file_path, switch_name=False):\n",
        "    with open(file_path, 'r') as file:\n",
        "        with open(file_path.replace('.json', '_mod.json'), 'w') as file2:\n",
        "            n_s = file.read().replace('}{', '}\\n{')\n",
        "            if switch_name:\n",
        "                n_s = n_s.replace('meanReward', 'best_reward')\n",
        "            file2.write(n_s)\n",
        "\n",
        "def plot_data(data, ppo):\n",
        "    rewards = [item['best_reward'] for item in data]\n",
        "    times = [item['time'] for item in data]\n",
        "\n",
        "    if ppo:\n",
        "      newTimes = [sum(times[:i]) for i in range(len(times))]\n",
        "      newTimes = [newTimes[i*10] for i in range(len(times)//10) ] #da levare\n",
        "      rewards = [rewards[i*10] for i in range(len(rewards)//10)] #da levare\n",
        "\n",
        "    else:\n",
        "      newTimes = times\n",
        "    if ppo:\n",
        "      plt.plot(newTimes, rewards, label='PPO',marker='o', markersize=3)\n",
        "    else:\n",
        "      plt.plot(times, rewards, label='ES',marker='o', markersize=3)\n",
        "    plt.legend()\n",
        "    plt.xlabel('Time')\n",
        "    plt.ylabel('Reward')\n",
        "    plt.title('Reward vs Time')\n",
        "    plt.grid(True)\n",
        "\n",
        "if __name__ == \"__main__\":\n",
        "    # ES\n",
        "    file_path = '/content/drive/MyDrive/RL_FINAL/REWARDS_ES.json'  # Replace with your JSON file path\n",
        "    correct_json_file(file_path)\n",
        "    data = read_json_file(file_path.replace('.json', '_mod.json'))\n",
        "    plot_data(data,False)\n",
        "\n",
        "    # PPO\n",
        "    file_path = '/content/drive/MyDrive/RL_FINAL/REWARDS_PPO.json'  # Replace with your JSON file path\n",
        "    correct_json_file(file_path, switch_name=True)\n",
        "    data = read_json_file(file_path.replace('.json', '_mod.json'))\n",
        "    plot_data(data,True)\n",
        "\n",
        "\n",
        "\n",
        "    plt.show()\n"
      ]
    },
    {
      "cell_type": "markdown",
      "source": [
        "# **Evaluation of the best models for both PPO and ES**\n",
        "We evalute the best model saved at traning time of both PPO and ES making them play 100 runs of the environment, collectiong the rewards and making an histogram from them."
      ],
      "metadata": {
        "id": "mm5JtE9jaK4q"
      }
    },
    {
      "cell_type": "markdown",
      "source": [
        "**ES evaluation:**"
      ],
      "metadata": {
        "id": "O1JuUIBhbQoT"
      }
    },
    {
      "cell_type": "code",
      "source": [
        "env_name = \"BipedalWalker-v3\"\n",
        "env = gym.make(env_name)#, render_mode=\"human\")\n",
        "\n",
        "class AgentNN(nn.Module): #its the Agent network in the ES, and the PolicyNetwork in the PPO\n",
        "    def __init__(self, n_inputs, n_hidden, n_outputs):\n",
        "        super(AgentNN, self).__init__()\n",
        "        self.fc1 = nn.Linear(24, 512)\n",
        "        self.fc2 = nn.Linear(512, 4)\n",
        "        self.tanh = nn.Tanh()\n",
        "\n",
        "    def loadFromTensors(self, W1, W2, b1, b2):\n",
        "        self.fc1.weight = nn.Parameter(W1.T)\n",
        "        self.fc2.weight = nn.Parameter(W2.T)\n",
        "        self.fc1.bias = nn.Parameter(b1)\n",
        "        self.fc2.bias = nn.Parameter(b2)\n",
        "\n",
        "    def forward(self, x):\n",
        "        x = self.tanh(self.fc1(x))\n",
        "        x = self.tanh(self.fc2(x))\n",
        "        return x\n",
        "\n",
        "\n",
        "params = torch.load('/content/drive/MyDrive/RL_FINAL/bestAgentES.pt')\n",
        "params['fc1.weight'] = params['fc1.weight'].T\n",
        "params['fc2.weight'] = params['fc2.weight'].T\n",
        "\n",
        "params['fc1.bias'] = params['fc1.bias'].squeeze(0)\n",
        "params['fc2.bias'] = params['fc2.bias'].squeeze(0)\n",
        "\n",
        "rete = AgentNN(512, 24, 4)\n",
        "rete.load_state_dict(params)\n",
        "allRewards = []\n",
        "for _ in range(100):\n",
        "    done = False\n",
        "    state = env.reset()\n",
        "    rewardRun = 0\n",
        "    while not done:\n",
        "        with torch.no_grad():\n",
        "            if type(state) == tuple:\n",
        "                state = state[0]\n",
        "            action = rete(torch.from_numpy(state))\n",
        "            #print(action)\n",
        "            state, reward, done, info = env.step(action)\n",
        "            env.render()\n",
        "            rewardRun+=reward\n",
        "    allRewards.append(rewardRun)\n",
        "\n",
        "\n",
        "\n",
        "import matplotlib.pyplot as plt\n",
        "\n",
        "plt.hist(allRewards, bins=10)\n",
        "plt.xlabel('Rewards')\n",
        "plt.ylabel('Frequency')\n",
        "plt.title('Histogram of Rewards')\n",
        "plt.show()"
      ],
      "metadata": {
        "colab": {
          "base_uri": "https://localhost:8080/",
          "height": 1000
        },
        "id": "RjlyRegqHkOe",
        "outputId": "e88a4ab5-ae4b-49b0-ed9a-f20220518d2d"
      },
      "execution_count": null,
      "outputs": [
        {
          "output_type": "stream",
          "name": "stderr",
          "text": [
            "<frozen importlib._bootstrap>:241: DeprecationWarning: builtin type SwigPyPacked has no __module__ attribute\n",
            "<frozen importlib._bootstrap>:241: DeprecationWarning: builtin type SwigPyObject has no __module__ attribute\n",
            "<frozen importlib._bootstrap>:241: DeprecationWarning: builtin type swigvarlink has no __module__ attribute\n",
            "/usr/local/lib/python3.11/dist-packages/gym/core.py:317: DeprecationWarning: \u001b[33mWARN: Initializing wrapper in old step API which returns one bool instead of two. It is recommended to set `new_step_api=True` to use new step API. This will be the default behaviour in future.\u001b[0m\n",
            "  deprecation(\n",
            "/usr/local/lib/python3.11/dist-packages/gym/wrappers/step_api_compatibility.py:39: DeprecationWarning: \u001b[33mWARN: Initializing environment in old step API which returns one bool instead of two. It is recommended to set `new_step_api=True` to use new step API. This will be the default behaviour in future.\u001b[0m\n",
            "  deprecation(\n",
            "<ipython-input-2-af583e842232>:29: FutureWarning: You are using `torch.load` with `weights_only=False` (the current default value), which uses the default pickle module implicitly. It is possible to construct malicious pickle data which will execute arbitrary code during unpickling (See https://github.com/pytorch/pytorch/blob/main/SECURITY.md#untrusted-models for more details). In a future release, the default value for `weights_only` will be flipped to `True`. This limits the functions that could be executed during unpickling. Arbitrary objects will no longer be allowed to be loaded via this mode unless they are explicitly allowlisted by the user via `torch.serialization.add_safe_globals`. We recommend you start setting `weights_only=True` for any use case where you don't have full control of the loaded file. Please open an issue on GitHub for any issues related to this experimental feature.\n",
            "  params = torch.load('/content/drive/MyDrive/RL_FINAL/bestAgentES.pt')\n",
            "/usr/local/lib/python3.11/dist-packages/gym/utils/passive_env_checker.py:241: DeprecationWarning: `np.bool8` is a deprecated alias for `np.bool_`.  (Deprecated NumPy 1.24)\n",
            "  if not isinstance(terminated, (bool, np.bool8)):\n",
            "/usr/local/lib/python3.11/dist-packages/gym/utils/passive_env_checker.py:260: UserWarning: \u001b[33mWARN: The reward returned by `step()` must be a float, int, np.integer or np.floating, actual type: <class 'torch.Tensor'>\u001b[0m\n",
            "  logger.warn(\n",
            "/usr/local/lib/python3.11/dist-packages/gym/core.py:49: DeprecationWarning: \u001b[33mWARN: You are calling render method, but you didn't specified the argument render_mode at environment initialization. To maintain backward compatibility, the environment will render in human mode.\n",
            "If you want to render in human mode, initialize the environment in this way: gym.make('EnvName', render_mode='human') and don't call the render method.\n",
            "See here for more information: https://www.gymlibrary.ml/content/api/\u001b[0m\n",
            "  deprecation(\n"
          ]
        },
        {
          "output_type": "stream",
          "name": "stdout",
          "text": [
            "tensor(168.4944, dtype=torch.float64)\n",
            "tensor(174.4705, dtype=torch.float64)\n",
            "tensor(170.6762, dtype=torch.float64)\n",
            "tensor(168.5478, dtype=torch.float64)\n",
            "tensor(29.3473, dtype=torch.float64)\n",
            "tensor(152.4690, dtype=torch.float64)\n",
            "tensor(-6.3712, dtype=torch.float64)\n",
            "tensor(155.5073, dtype=torch.float64)\n",
            "tensor(39.8451, dtype=torch.float64)\n",
            "tensor(169.7537, dtype=torch.float64)\n",
            "tensor(174.2904, dtype=torch.float64)\n",
            "tensor(159.2121, dtype=torch.float64)\n",
            "tensor(167.0807, dtype=torch.float64)\n",
            "tensor(170.1436, dtype=torch.float64)\n",
            "tensor(175.1947, dtype=torch.float64)\n",
            "tensor(155.0016, dtype=torch.float64)\n",
            "tensor(165.8686, dtype=torch.float64)\n",
            "tensor(182.5226, dtype=torch.float64)\n",
            "tensor(58.4683, dtype=torch.float64)\n",
            "tensor(171.2548, dtype=torch.float64)\n",
            "tensor(167.6595, dtype=torch.float64)\n",
            "tensor(183.1998, dtype=torch.float64)\n",
            "tensor(175.6044, dtype=torch.float64)\n",
            "tensor(-66.6307, dtype=torch.float64)\n",
            "tensor(4.5707, dtype=torch.float64)\n",
            "tensor(9.7629, dtype=torch.float64)\n",
            "tensor(14.8774, dtype=torch.float64)\n",
            "tensor(178.5641, dtype=torch.float64)\n",
            "tensor(164.0327, dtype=torch.float64)\n",
            "tensor(172.4286, dtype=torch.float64)\n",
            "tensor(173.2396, dtype=torch.float64)\n",
            "tensor(168.6727, dtype=torch.float64)\n",
            "tensor(177.7282, dtype=torch.float64)\n",
            "tensor(170.2322, dtype=torch.float64)\n",
            "tensor(165.8026, dtype=torch.float64)\n",
            "tensor(163.8398, dtype=torch.float64)\n",
            "tensor(151.7612, dtype=torch.float64)\n",
            "tensor(175.2715, dtype=torch.float64)\n",
            "tensor(155.8773, dtype=torch.float64)\n",
            "tensor(178.0819, dtype=torch.float64)\n",
            "tensor(175.1009, dtype=torch.float64)\n",
            "tensor(162.4514, dtype=torch.float64)\n",
            "tensor(145.6388, dtype=torch.float64)\n",
            "tensor(150.2511, dtype=torch.float64)\n",
            "tensor(191.5824, dtype=torch.float64)\n",
            "tensor(176.6041, dtype=torch.float64)\n",
            "tensor(168.3005, dtype=torch.float64)\n",
            "tensor(173.3253, dtype=torch.float64)\n",
            "tensor(155.3034, dtype=torch.float64)\n",
            "tensor(178.7094, dtype=torch.float64)\n",
            "tensor(176.7905, dtype=torch.float64)\n",
            "tensor(171.4890, dtype=torch.float64)\n",
            "tensor(184.1265, dtype=torch.float64)\n",
            "tensor(171.9371, dtype=torch.float64)\n",
            "tensor(161.8261, dtype=torch.float64)\n",
            "tensor(172.2756, dtype=torch.float64)\n",
            "tensor(185.1991, dtype=torch.float64)\n",
            "tensor(173.8236, dtype=torch.float64)\n",
            "tensor(182.9622, dtype=torch.float64)\n",
            "tensor(169.6227, dtype=torch.float64)\n",
            "tensor(159.3957, dtype=torch.float64)\n",
            "tensor(166.9707, dtype=torch.float64)\n",
            "tensor(173.5970, dtype=torch.float64)\n",
            "tensor(162.2747, dtype=torch.float64)\n",
            "tensor(181.6252, dtype=torch.float64)\n",
            "tensor(64.0744, dtype=torch.float64)\n",
            "tensor(153.1474, dtype=torch.float64)\n",
            "tensor(180.5389, dtype=torch.float64)\n",
            "tensor(168.8595, dtype=torch.float64)\n",
            "tensor(176.5475, dtype=torch.float64)\n",
            "tensor(187.4745, dtype=torch.float64)\n",
            "tensor(183.0278, dtype=torch.float64)\n",
            "tensor(157.3349, dtype=torch.float64)\n",
            "tensor(165.9357, dtype=torch.float64)\n",
            "tensor(177.5467, dtype=torch.float64)\n",
            "tensor(162.7910, dtype=torch.float64)\n",
            "tensor(136.0380, dtype=torch.float64)\n",
            "tensor(155.9858, dtype=torch.float64)\n",
            "tensor(169.2793, dtype=torch.float64)\n",
            "tensor(177.1600, dtype=torch.float64)\n",
            "tensor(177.6989, dtype=torch.float64)\n",
            "tensor(-48.1551, dtype=torch.float64)\n",
            "tensor(164.2003, dtype=torch.float64)\n",
            "tensor(147.8226, dtype=torch.float64)\n",
            "tensor(158.1785, dtype=torch.float64)\n",
            "tensor(168.6946, dtype=torch.float64)\n",
            "tensor(178.1692, dtype=torch.float64)\n",
            "tensor(-9.4766, dtype=torch.float64)\n",
            "tensor(170.3453, dtype=torch.float64)\n",
            "tensor(171.7352, dtype=torch.float64)\n",
            "tensor(138.1476, dtype=torch.float64)\n",
            "tensor(179.3841, dtype=torch.float64)\n",
            "tensor(180.0012, dtype=torch.float64)\n",
            "tensor(164.9437, dtype=torch.float64)\n",
            "tensor(171.3150, dtype=torch.float64)\n",
            "tensor(167.6132, dtype=torch.float64)\n",
            "tensor(177.9575, dtype=torch.float64)\n",
            "tensor(171.1185, dtype=torch.float64)\n",
            "tensor(170.5532, dtype=torch.float64)\n",
            "tensor(176.2306, dtype=torch.float64)\n",
            "rewardMedio: tensor(151.4976, dtype=torch.float64)\n"
          ]
        },
        {
          "output_type": "display_data",
          "data": {
            "text/plain": [
              "<Figure size 640x480 with 1 Axes>"
            ],
            "image/png": "[encoded data removed]"
          },
          "metadata": {}
        }
      ]
    },
    {
      "cell_type": "markdown",
      "source": [
        "**PPO evaluation:**"
      ],
      "metadata": {
        "id": "zERcwiOquzVZ"
      }
    },
    {
      "cell_type": "code",
      "source": [
        "import torch\n",
        "import torch.nn as nn\n",
        "import torch.nn.functional as F\n",
        "from tqdm import tqdm\n",
        "\n",
        "class A2C_policy(nn.Module):\n",
        "    '''\n",
        "    Policy neural network --- 15000 params ca.\n",
        "    '''\n",
        "    def __init__(self, input_shape, n_actions):\n",
        "        super(A2C_policy, self).__init__()\n",
        "\n",
        "        self.lp = nn.Sequential(\n",
        "            nn.Linear(24, 256),\n",
        "            nn.ReLU(),\n",
        "            nn.Linear(256, 32),\n",
        "            nn.ReLU())\n",
        "\n",
        "        self.mean_l = nn.Linear(32, 4)\n",
        "        self.mean_l.weight.data.mul_(0.1)\n",
        "\n",
        "        self.var_l = nn.Linear(32, 4)\n",
        "        self.var_l.weight.data.mul_(0.1)\n",
        "\n",
        "        self.logstd = nn.Parameter(torch.zeros(4))\n",
        "\n",
        "    def forward(self, x):\n",
        "        #x.to(device)\n",
        "        ot_n = self.lp(x.float())\n",
        "        return F.tanh(self.mean_l(ot_n))\n",
        "\n",
        "params = torch.load('/content/drive/MyDrive/RL_FINAL/PPO_BipedalWalker-v3_19_17.58.14_0.0004_0.001_2049_64.pth.tar')\n",
        "model = A2C_policy(24, 4)\n",
        "p = params['agent_policy']\n",
        "model.load_state_dict(p)\n",
        "\n",
        "\n",
        "allRewards = []\n",
        "pb = tqdm(range(100),desc='Best = 0')\n",
        "best = 0\n",
        "for _ in pb:\n",
        "    done = False\n",
        "    state = env.reset()\n",
        "    rewardRun = 0\n",
        "    while not done:\n",
        "        with torch.no_grad():\n",
        "            if type(state) == tuple:\n",
        "                state = state[0]\n",
        "            action = model(torch.from_numpy(state))\n",
        "            #print(action)\n",
        "            state, reward, done, info = env.step(action)\n",
        "            env.render()\n",
        "            rewardRun+=reward\n",
        "    if rewardRun > best:\n",
        "      best = rewardRun\n",
        "      pb.set_description(f\"Best = {best}\")\n",
        "    allRewards.append(rewardRun)\n",
        "\n",
        "\n",
        "\n",
        "import matplotlib.pyplot as plt\n",
        "\n",
        "plt.hist(allRewards, bins=10)\n",
        "plt.xlabel('Rewards')\n",
        "plt.ylabel('Frequency')\n",
        "plt.title('Histogram of Rewards')\n",
        "plt.show()\n"
      ],
      "metadata": {
        "colab": {
          "base_uri": "https://localhost:8080/",
          "height": 611
        },
        "id": "qhEVxBBmcd56",
        "outputId": "abfdbcfd-61eb-40b9-f51c-e3036ac42811"
      },
      "execution_count": null,
      "outputs": [
        {
          "output_type": "stream",
          "name": "stderr",
          "text": [
            "/usr/local/lib/python3.11/dist-packages/ipykernel/ipkernel.py:283: DeprecationWarning: `should_run_async` will not call `transform_cell` automatically in the future. Please pass the result to `transformed_cell` argument and any exception that happen during thetransform in `preprocessing_exc_tuple` in IPython 7.17 and above.\n",
            "  and should_run_async(code)\n",
            "Best = 0:   0%|          | 0/100 [00:00<?, ?it/s]/usr/local/lib/python3.11/dist-packages/gym/core.py:49: DeprecationWarning: \u001b[33mWARN: You are calling render method, but you didn't specified the argument render_mode at environment initialization. To maintain backward compatibility, the environment will render in human mode.\n",
            "If you want to render in human mode, initialize the environment in this way: gym.make('EnvName', render_mode='human') and don't call the render method.\n",
            "See here for more information: https://www.gymlibrary.ml/content/api/\u001b[0m\n",
            "  deprecation(\n",
            "Best = 300.9753021486336: 100%|██████████| 100/100 [30:17<00:00, 18.17s/it]\n"
          ]
        },
        {
          "output_type": "display_data",
          "data": {
            "text/plain": [
              "<Figure size 640x480 with 1 Axes>"
            ],
            "image/png": "[encoded data removed]"
          },
          "metadata": {}
        }
      ]
    },
    {
      "cell_type": "code",
      "source": [
        "AA = \"\"\"tensor(168.4944, dtype=torch.float64)\n",
        "tensor(174.4705, dtype=torch.float64)\n",
        "tensor(170.6762, dtype=torch.float64)\n",
        "tensor(168.5478, dtype=torch.float64)\n",
        "tensor(29.3473, dtype=torch.float64)\n",
        "tensor(152.4690, dtype=torch.float64)\n",
        "tensor(-6.3712, dtype=torch.float64)\n",
        "tensor(155.5073, dtype=torch.float64)\n",
        "tensor(39.8451, dtype=torch.float64)\n",
        "tensor(169.7537, dtype=torch.float64)\n",
        "tensor(174.2904, dtype=torch.float64)\n",
        "tensor(159.2121, dtype=torch.float64)\n",
        "tensor(167.0807, dtype=torch.float64)\n",
        "tensor(170.1436, dtype=torch.float64)\n",
        "tensor(175.1947, dtype=torch.float64)\n",
        "tensor(155.0016, dtype=torch.float64)\n",
        "tensor(165.8686, dtype=torch.float64)\n",
        "tensor(182.5226, dtype=torch.float64)\n",
        "tensor(58.4683, dtype=torch.float64)\n",
        "tensor(171.2548, dtype=torch.float64)\n",
        "tensor(167.6595, dtype=torch.float64)\n",
        "tensor(183.1998, dtype=torch.float64)\n",
        "tensor(175.6044, dtype=torch.float64)\n",
        "tensor(-66.6307, dtype=torch.float64)\n",
        "tensor(4.5707, dtype=torch.float64)\n",
        "tensor(9.7629, dtype=torch.float64)\n",
        "tensor(14.8774, dtype=torch.float64)\n",
        "tensor(178.5641, dtype=torch.float64)\n",
        "tensor(164.0327, dtype=torch.float64)\n",
        "tensor(172.4286, dtype=torch.float64)\n",
        "tensor(173.2396, dtype=torch.float64)\n",
        "tensor(168.6727, dtype=torch.float64)\n",
        "tensor(177.7282, dtype=torch.float64)\n",
        "tensor(170.2322, dtype=torch.float64)\n",
        "tensor(165.8026, dtype=torch.float64)\n",
        "tensor(163.8398, dtype=torch.float64)\n",
        "tensor(151.7612, dtype=torch.float64)\n",
        "tensor(175.2715, dtype=torch.float64)\n",
        "tensor(155.8773, dtype=torch.float64)\n",
        "tensor(178.0819, dtype=torch.float64)\n",
        "tensor(175.1009, dtype=torch.float64)\n",
        "tensor(162.4514, dtype=torch.float64)\n",
        "tensor(145.6388, dtype=torch.float64)\n",
        "tensor(150.2511, dtype=torch.float64)\n",
        "tensor(191.5824, dtype=torch.float64)\n",
        "tensor(176.6041, dtype=torch.float64)\n",
        "tensor(168.3005, dtype=torch.float64)\n",
        "tensor(173.3253, dtype=torch.float64)\n",
        "tensor(155.3034, dtype=torch.float64)\n",
        "tensor(178.7094, dtype=torch.float64)\n",
        "tensor(176.7905, dtype=torch.float64)\n",
        "tensor(171.4890, dtype=torch.float64)\n",
        "tensor(184.1265, dtype=torch.float64)\n",
        "tensor(171.9371, dtype=torch.float64)\n",
        "tensor(161.8261, dtype=torch.float64)\n",
        "tensor(172.2756, dtype=torch.float64)\n",
        "tensor(185.1991, dtype=torch.float64)\n",
        "tensor(173.8236, dtype=torch.float64)\n",
        "tensor(182.9622, dtype=torch.float64)\n",
        "tensor(169.6227, dtype=torch.float64)\n",
        "tensor(159.3957, dtype=torch.float64)\n",
        "tensor(166.9707, dtype=torch.float64)\n",
        "tensor(173.5970, dtype=torch.float64)\n",
        "tensor(162.2747, dtype=torch.float64)\n",
        "tensor(181.6252, dtype=torch.float64)\n",
        "tensor(64.0744, dtype=torch.float64)\n",
        "tensor(153.1474, dtype=torch.float64)\n",
        "tensor(180.5389, dtype=torch.float64)\n",
        "tensor(168.8595, dtype=torch.float64)\n",
        "tensor(176.5475, dtype=torch.float64)\n",
        "tensor(187.4745, dtype=torch.float64)\n",
        "tensor(183.0278, dtype=torch.float64)\n",
        "tensor(157.3349, dtype=torch.float64)\n",
        "tensor(165.9357, dtype=torch.float64)\n",
        "tensor(177.5467, dtype=torch.float64)\n",
        "tensor(162.7910, dtype=torch.float64)\n",
        "tensor(136.0380, dtype=torch.float64)\n",
        "tensor(155.9858, dtype=torch.float64)\n",
        "tensor(169.2793, dtype=torch.float64)\n",
        "tensor(177.1600, dtype=torch.float64)\n",
        "tensor(177.6989, dtype=torch.float64)\n",
        "tensor(-48.1551, dtype=torch.float64)\n",
        "tensor(164.2003, dtype=torch.float64)\n",
        "tensor(147.8226, dtype=torch.float64)\n",
        "tensor(158.1785, dtype=torch.float64)\n",
        "tensor(168.6946, dtype=torch.float64)\n",
        "tensor(178.1692, dtype=torch.float64)\n",
        "tensor(-9.4766, dtype=torch.float64)\n",
        "tensor(170.3453, dtype=torch.float64)\n",
        "tensor(171.7352, dtype=torch.float64)\n",
        "tensor(138.1476, dtype=torch.float64)\n",
        "tensor(179.3841, dtype=torch.float64)\n",
        "tensor(180.0012, dtype=torch.float64)\n",
        "tensor(164.9437, dtype=torch.float64)\n",
        "tensor(171.3150, dtype=torch.float64)\n",
        "tensor(167.6132, dtype=torch.float64)\n",
        "tensor(177.9575, dtype=torch.float64)\n",
        "tensor(171.1185, dtype=torch.float64)\n",
        "tensor(170.5532, dtype=torch.float64)\n",
        "tensor(176.2306, dtype=torch.float64)\"\"\"\n",
        "\n",
        "AA = AA.split('\\n')\n",
        "b =  max([float(i.split('(')[1].split(',')[0]) for i in AA])\n",
        "b"
      ],
      "metadata": {
        "colab": {
          "base_uri": "https://localhost:8080/"
        },
        "id": "cFQBWKk4diFr",
        "outputId": "23b2b5cb-8a97-473e-adea-0bda265ff7d0"
      },
      "execution_count": null,
      "outputs": [
        {
          "output_type": "stream",
          "name": "stderr",
          "text": [
            "/usr/local/lib/python3.11/dist-packages/ipykernel/ipkernel.py:283: DeprecationWarning: `should_run_async` will not call `transform_cell` automatically in the future. Please pass the result to `transformed_cell` argument and any exception that happen during thetransform in `preprocessing_exc_tuple` in IPython 7.17 and above.\n",
            "  and should_run_async(code)\n"
          ]
        },
        {
          "output_type": "execute_result",
          "data": {
            "text/plain": [
              "191.5824"
            ]
          },
          "metadata": {},
          "execution_count": 29
        }
      ]
    }
  ]
}